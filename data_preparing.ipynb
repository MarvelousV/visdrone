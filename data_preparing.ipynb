{
 "cells": [
  {
   "cell_type": "code",
   "execution_count": 1,
   "metadata": {},
   "outputs": [],
   "source": [
    "import os\n",
    "from pathlib import Path\n",
    "from PIL import Image\n",
    "import csv\n",
    "from collections import defaultdict"
   ]
  },
  {
   "cell_type": "markdown",
   "metadata": {},
   "source": [
    "### explore"
   ]
  },
  {
   "cell_type": "code",
   "execution_count": 2,
   "metadata": {},
   "outputs": [
    {
     "name": "stdout",
     "output_type": "stream",
     "text": [
      "The maximum numbers of images of sequences is 464\n"
     ]
    }
   ],
   "source": [
    "os.chdir('/Users/baiyu/Data/VisDrone2018-VID-val/sequences')\n",
    "seqs = os.listdir()\n",
    "max_ = 0\n",
    "for seq in seqs:\n",
    "    if seq[:3] != 'uav':\n",
    "        continue\n",
    "#    print(len(os.listdir(seq)))\n",
    "    if len(os.listdir(seq)) > max_:\n",
    "        max_ = len(os.listdir(seq))\n",
    "print('The maximum numbers of images of sequences is', max_)\n",
    "os.chdir('..')"
   ]
  },
  {
   "cell_type": "markdown",
   "metadata": {},
   "source": [
    "### convert"
   ]
  },
  {
   "cell_type": "code",
   "execution_count": 3,
   "metadata": {},
   "outputs": [],
   "source": [
    "def convert(size, box):\n",
    "    dw = 1. / size[0]\n",
    "    dh = 1. / size[1]\n",
    "    x = (box[0] + box[2] / 2) * dw\n",
    "    y = (box[1] + box[3] / 2) * dh\n",
    "    w = box[2] * dw\n",
    "    h = box[3] * dh\n",
    "    return (x, y, w, h)"
   ]
  },
  {
   "cell_type": "code",
   "execution_count": 4,
   "metadata": {},
   "outputs": [],
   "source": [
    "def convert_annotation(seq):\n",
    "    path = wd + '/annotations/' + seq + '.txt'\n",
    "    tmp = defaultdict(str)\n",
    "    with open(path, newline='') as csvfile:\n",
    "        spamreader = csv.reader(csvfile)\n",
    "        for row in spamreader:\n",
    "            if row[6] == '0':\n",
    "                continue\n",
    "            bb = convert(seqs_size[seq], tuple(map(int, row[2:6])))\n",
    "            tmp[row[0]] = tmp[row[0]] + row[7] + ' ' + ' '.join(str(a) for a in bb) + '\\n'\n",
    "    for img, value in tmp.items():\n",
    "        with open(wd + '/labels/{:0>3}_{:0>4}.txt'.format(seqs_dict[seq], int(img)), 'w') as outfile:\n",
    "            outfile.write(value)"
   ]
  },
  {
   "cell_type": "code",
   "execution_count": 5,
   "metadata": {
    "scrolled": true
   },
   "outputs": [],
   "source": [
    "wd = os.getcwd()\n",
    "if not os.path.exists('JPEGImages'):\n",
    "    os.makedirs('JPEGImages')\n",
    "if not os.path.exists('labels'):\n",
    "    os.makedirs('labels')\n",
    "    \n",
    "seqs_size = dict()\n",
    "seqs_dict = dict()\n",
    "\n",
    "os.chdir('sequences')\n",
    "seqs = os.listdir()\n",
    "seq_num = 1\n",
    "for seq in seqs:\n",
    "    seqs_dict[seq] = seq_num\n",
    "    if seq[:3] != 'uav':\n",
    "        continue\n",
    "    os.chdir(seq)\n",
    "    imgs = os.listdir()\n",
    "    for img in imgs:\n",
    "        if img[-3:] != 'jpg':\n",
    "            continue\n",
    "        os.rename(img, wd + '/JPEGImages/{:0>3}_{:0>4}.jpg'.format(seq_num, int(img[:-4])))\n",
    "    os.chdir('..')\n",
    "    os.rmdir(seq)\n",
    "    with Image.open(wd + '/JPEGImages/{:0>3}_0001.jpg'.format(seq_num)) as Img:\n",
    "        seqs_size[seq] = Img.size\n",
    "    convert_annotation(seq)\n",
    "    seq_num += 1"
   ]
  },
  {
   "cell_type": "code",
   "execution_count": null,
   "metadata": {},
   "outputs": [],
   "source": [
    "os.chdir('/Users/baiyu/Data/VisDrone2018-VID-train/')"
   ]
  },
  {
   "cell_type": "code",
   "execution_count": null,
   "metadata": {},
   "outputs": [],
   "source": [
    "p = '/Users/baiyu/Data/VisDrone2018-VID-train/annotations/uav0000013_00000_v.txt'"
   ]
  },
  {
   "cell_type": "code",
   "execution_count": null,
   "metadata": {},
   "outputs": [],
   "source": [
    "import csv\n",
    "with open(p, newline='') as csvfile:\n",
    "    spamreader = csv.reader(csvfile)\n",
    "    for row in spamreader:\n",
    "        print(type(row))\n",
    "        print(row)\n",
    "        print(len(row))"
   ]
  },
  {
   "cell_type": "code",
   "execution_count": null,
   "metadata": {},
   "outputs": [],
   "source": [
    "'{:0>3}_{:0>4}.jpg'.format(1, 2)"
   ]
  },
  {
   "cell_type": "code",
   "execution_count": null,
   "metadata": {},
   "outputs": [],
   "source": [
    "for xxx in range(10):\n",
    "    pass\n",
    "print(xxx)"
   ]
  },
  {
   "cell_type": "code",
   "execution_count": null,
   "metadata": {},
   "outputs": [],
   "source": [
    "a,b = 10, 'abc'\n",
    "[a, b]"
   ]
  },
  {
   "cell_type": "code",
   "execution_count": null,
   "metadata": {},
   "outputs": [],
   "source": [
    "xx = defaultdict(str)\n",
    "xx['abc'] = xx['abc'] + 'cccc'"
   ]
  },
  {
   "cell_type": "code",
   "execution_count": null,
   "metadata": {},
   "outputs": [],
   "source": [
    "for key, value in xx.items():\n",
    "    print(key, value)"
   ]
  },
  {
   "cell_type": "code",
   "execution_count": null,
   "metadata": {},
   "outputs": [],
   "source": [
    "xx['abc']"
   ]
  },
  {
   "cell_type": "code",
   "execution_count": null,
   "metadata": {},
   "outputs": [],
   "source": [
    "xx = ['0', '0', '232', '234', '56', '5756']\n",
    "m = tuple(map(int, xx[2:6]))\n",
    "m[2]"
   ]
  },
  {
   "cell_type": "code",
   "execution_count": null,
   "metadata": {},
   "outputs": [],
   "source": [
    "tuple([1, 2])"
   ]
  },
  {
   "cell_type": "code",
   "execution_count": 6,
   "metadata": {},
   "outputs": [
    {
     "data": {
      "text/plain": [
       "False"
      ]
     },
     "execution_count": 6,
     "metadata": {},
     "output_type": "execute_result"
    }
   ],
   "source": [
    "'0' == 0"
   ]
  },
  {
   "cell_type": "code",
   "execution_count": null,
   "metadata": {},
   "outputs": [],
   "source": []
  }
 ],
 "metadata": {
  "kernelspec": {
   "display_name": "Python 3",
   "language": "python",
   "name": "python3"
  },
  "language_info": {
   "codemirror_mode": {
    "name": "ipython",
    "version": 3
   },
   "file_extension": ".py",
   "mimetype": "text/x-python",
   "name": "python",
   "nbconvert_exporter": "python",
   "pygments_lexer": "ipython3",
   "version": "3.6.6"
  }
 },
 "nbformat": 4,
 "nbformat_minor": 2
}
